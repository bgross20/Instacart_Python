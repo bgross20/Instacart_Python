{
 "cells": [
  {
   "cell_type": "markdown",
   "id": "a66e6b1e",
   "metadata": {},
   "source": [
    "# Coding Etiquette and Excel Reporting"
   ]
  },
  {
   "cell_type": "markdown",
   "id": "cb5f7f2a",
   "metadata": {},
   "source": [
    "## This script contains the following points: "
   ]
  },
  {
   "cell_type": "markdown",
   "id": "2c94cde8",
   "metadata": {},
   "source": [
    "### 1. Import Libraries and Data"
   ]
  },
  {
   "cell_type": "markdown",
   "id": "ca15b44c",
   "metadata": {},
   "source": [
    "### 2. Crosstabs in Python"
   ]
  },
  {
   "cell_type": "markdown",
   "id": "ec3f68c6",
   "metadata": {},
   "source": [
    "### 3. Task 4.10"
   ]
  },
  {
   "cell_type": "markdown",
   "id": "da6bc9ab",
   "metadata": {},
   "source": [
    "### 4. Extra for Project"
   ]
  },
  {
   "cell_type": "markdown",
   "id": "bab691a9",
   "metadata": {},
   "source": [
    "## Import libraires "
   ]
  },
  {
   "cell_type": "code",
   "execution_count": 1,
   "id": "91f4aa96",
   "metadata": {},
   "outputs": [],
   "source": [
    "## Import libraries \n",
    "import pandas as pd\n",
    "import numpy as np\n",
    "import os\n",
    "import matplotlib.pyplot as plt\n",
    "import seaborn as sns\n",
    "import scipy"
   ]
  },
  {
   "cell_type": "markdown",
   "id": "c262d8e6",
   "metadata": {},
   "source": [
    "## Import Data "
   ]
  },
  {
   "cell_type": "code",
   "execution_count": 2,
   "id": "7efcf05c",
   "metadata": {},
   "outputs": [],
   "source": [
    "## Import data by creating a path \n",
    "path = r'C:\\Users\\bgros\\Documents\\Career Foundry\\07-2023 Instacart Basket Analysis'"
   ]
  },
  {
   "cell_type": "code",
   "execution_count": 3,
   "id": "3cd22e19",
   "metadata": {},
   "outputs": [],
   "source": [
    "## Import data\n",
    "df_ords_prods_all = pd.read_pickle(os.path.join(path, '02 Data', 'Prepared Data', 'orders_products_all.pkl'))"
   ]
  },
  {
   "cell_type": "markdown",
   "id": "32c709ba",
   "metadata": {},
   "source": [
    "## Crosstabs in Python"
   ]
  },
  {
   "cell_type": "code",
   "execution_count": null,
   "id": "17c04b3a",
   "metadata": {},
   "outputs": [],
   "source": [
    "## Create crosstab in Jupyter \n",
    "crosstab = pd.crosstab(df_ords_prods_all['days_since_prior_order'], df_ords_prods_all['order_number'], dropna = False) "
   ]
  },
  {
   "cell_type": "code",
   "execution_count": null,
   "id": "b31b1934",
   "metadata": {},
   "outputs": [],
   "source": [
    "## Store crosstab to clipboard\n",
    "crosstab.to_clipboard()"
   ]
  },
  {
   "cell_type": "markdown",
   "id": "f0add80c",
   "metadata": {},
   "source": [
    "## Question 1 - Import the data set you exported in Exercise 4.9 into a new Jupyter notebook. This should be the merged version of your data that contains the new customers column"
   ]
  },
  {
   "cell_type": "markdown",
   "id": "ae027639",
   "metadata": {},
   "source": [
    "### Done - see above "
   ]
  },
  {
   "cell_type": "code",
   "execution_count": null,
   "id": "157fd6ce",
   "metadata": {},
   "outputs": [],
   "source": [
    "## Consistency checks \n",
    "df_ords_prods_all.head()"
   ]
  },
  {
   "cell_type": "code",
   "execution_count": null,
   "id": "6552427d",
   "metadata": {},
   "outputs": [],
   "source": [
    "## See all rows \n",
    "pd.set_option('display.max_columns', None)"
   ]
  },
  {
   "cell_type": "code",
   "execution_count": null,
   "id": "7728b53a",
   "metadata": {},
   "outputs": [],
   "source": [
    "## Consistency checks \n",
    "df_ords_prods_all.head()"
   ]
  },
  {
   "cell_type": "markdown",
   "id": "84848f40",
   "metadata": {},
   "source": [
    "## Question 2 - Consider any security implications that might exist for this new data. You’ll need to address any PII data in the data before continuing your analysis."
   ]
  },
  {
   "cell_type": "markdown",
   "id": "a629a1e0",
   "metadata": {},
   "source": [
    "### Answer - I have already deleted the first and last name of customers due to PII in the previous exercise"
   ]
  },
  {
   "cell_type": "markdown",
   "id": "9fdf49fb",
   "metadata": {},
   "source": [
    "## Question 3 - The Instacart officers are interested in comparing customer behavior in different geographic areas. Create a regional segmentation of the data. You’ll need to create a “Region” column based on the “State” column from your customers data set.\n",
    "Use the region information in this Wikipedia article to create your column (you only need to create regions, not divisions).\n",
    "Determine whether there’s a difference in spending habits between the different U.S. regions. (Hint: You can do this by crossing the variable you just created with the spending flag.)"
   ]
  },
  {
   "cell_type": "markdown",
   "id": "53b601c3",
   "metadata": {},
   "source": [
    "### Part 1 - Creating new region column "
   ]
  },
  {
   "cell_type": "code",
   "execution_count": null,
   "id": "a19a3dc9",
   "metadata": {},
   "outputs": [],
   "source": [
    "## Create definition \n",
    "\n",
    "Northeast = ['Maine', 'New Hampshire', 'Vermont', 'Massachusetts', 'Rhode Island', 'Connecticut', 'New York', 'Pennsylvania', 'New Jersey']\n",
    "Midwest = ['Wisconsin', 'Michigan', 'Illinois', 'Indiana', 'Ohio', 'North Dakota', 'South Dakota', 'Nebraska', 'Kansas', 'Minnesota', 'Iowa', 'Missouri'] \n",
    "South = ['Delaware', 'Maryland', 'District of Columbia', 'Virginia', 'West Virginia', 'North Carolina', 'South Carolina', 'Georgia', 'Florida', 'Kentucky', 'Tennessee', 'Mississippi', 'Alabama', 'Oklahoma', 'Texas', 'Arkansas', 'Louisiana']\n",
    "West = ['Idaho', 'Montana', 'Wyoming', 'Nevada', 'Utah', 'Colorado', 'Arizona', 'New Mexico', 'Alaska', 'Washington', 'Oregon', 'California', 'Hawaii']\n"
   ]
  },
  {
   "cell_type": "code",
   "execution_count": null,
   "id": "35514435",
   "metadata": {},
   "outputs": [],
   "source": [
    "## Create column \n",
    "df_ords_prods_all['region'] = df_ords_prods_all['state'].apply(lambda x: 'Northeast' if x in Northeast else\n",
    "                                                              ('Midwest' if x in Midwest else\n",
    "                                                              ('South' if x in South else\n",
    "                                                              ('West' if x in West else np.nan))))"
   ]
  },
  {
   "cell_type": "code",
   "execution_count": null,
   "id": "e882f488",
   "metadata": {},
   "outputs": [],
   "source": [
    "## Consistency checks \n",
    "df_ords_prods_all.tail(20)"
   ]
  },
  {
   "cell_type": "code",
   "execution_count": null,
   "id": "c0b55504",
   "metadata": {},
   "outputs": [],
   "source": [
    "## Create bar chart to show regions \n",
    "bar_chart_by_region = df_ords_prods_all['region'].value_counts().plot.bar()\n",
    "plt.title('Count of Customers by Region')\n",
    "plt.xlabel('Region')\n",
    "plt.ylabel('Count')"
   ]
  },
  {
   "cell_type": "code",
   "execution_count": null,
   "id": "2abf9f02",
   "metadata": {},
   "outputs": [],
   "source": [
    "## Export \n",
    "bar_chart_by_region.figure.savefig(os.path.join(path, '04 Analysis','Visualizations', 'bar_chart_by_region.png'))"
   ]
  },
  {
   "cell_type": "code",
   "execution_count": null,
   "id": "d1e2a0f0",
   "metadata": {},
   "outputs": [],
   "source": [
    "## Value counts \n",
    "df_ords_prods_all['region'].value_counts()"
   ]
  },
  {
   "cell_type": "markdown",
   "id": "515d781a",
   "metadata": {},
   "source": [
    "### Part 2 - Creating crosstab"
   ]
  },
  {
   "cell_type": "code",
   "execution_count": null,
   "id": "728c1eca",
   "metadata": {},
   "outputs": [],
   "source": [
    "crosstab = pd.crosstab(df_ords_prods_all['region'], df_ords_prods_all['spending_flag'], dropna = False)"
   ]
  },
  {
   "cell_type": "code",
   "execution_count": null,
   "id": "a66c9208",
   "metadata": {},
   "outputs": [],
   "source": [
    "## Printing crosstab \n",
    "crosstab"
   ]
  },
  {
   "cell_type": "markdown",
   "id": "89c54195",
   "metadata": {},
   "source": [
    "## Question 4 - The Instacart CFO isn’t interested in customers who don’t generate much revenue for the app. Create an exclusion flag for low-activity customers (customers with less than 5 orders) and exclude them from the data. Make sure you export this sample."
   ]
  },
  {
   "cell_type": "code",
   "execution_count": null,
   "id": "12f08d74",
   "metadata": {},
   "outputs": [],
   "source": [
    "## Consistency checks \n",
    "df_ords_prods_all.head(15)"
   ]
  },
  {
   "cell_type": "code",
   "execution_count": null,
   "id": "3c42e49f",
   "metadata": {},
   "outputs": [],
   "source": [
    "## Creating customer activity column\n",
    "df_ords_prods_all.loc[df_ords_prods_all['max_order'] <= 5, 'customer_activity'] = 'Low Activity Customer'"
   ]
  },
  {
   "cell_type": "code",
   "execution_count": null,
   "id": "c496816f",
   "metadata": {},
   "outputs": [],
   "source": [
    "df_ords_prods_all.loc[df_ords_prods_all['max_order'] > 5, 'customer_activity'] = 'High Activity Customer'"
   ]
  },
  {
   "cell_type": "code",
   "execution_count": null,
   "id": "0ae55e28",
   "metadata": {},
   "outputs": [],
   "source": [
    "## Consistency Checks \n",
    "df_ords_prods_all.head(10)"
   ]
  },
  {
   "cell_type": "code",
   "execution_count": null,
   "id": "0a3a9b99",
   "metadata": {},
   "outputs": [],
   "source": [
    "## Check shape\n",
    "df_ords_prods_all.shape"
   ]
  },
  {
   "cell_type": "code",
   "execution_count": null,
   "id": "ca598848",
   "metadata": {},
   "outputs": [],
   "source": [
    "## Checking value counts \n",
    "df_ords_prods_all['customer_activity'].value_counts()"
   ]
  },
  {
   "cell_type": "code",
   "execution_count": null,
   "id": "33a56c2a",
   "metadata": {},
   "outputs": [],
   "source": [
    "## Creating exclusion flag\n",
    "df_ords_prods_all_2 = df_ords_prods_all.loc[df_ords_prods_all['customer_activity'] == 'High Activity Customer']"
   ]
  },
  {
   "cell_type": "code",
   "execution_count": null,
   "id": "3d94d52b",
   "metadata": {},
   "outputs": [],
   "source": [
    "## Consistency checks \n",
    "df_ords_prods_all_2.head(5)"
   ]
  },
  {
   "cell_type": "code",
   "execution_count": null,
   "id": "87b16a7c",
   "metadata": {},
   "outputs": [],
   "source": [
    "## Check shape \n",
    "df_ords_prods_all_2.shape"
   ]
  },
  {
   "cell_type": "code",
   "execution_count": null,
   "id": "fd37c9a9",
   "metadata": {},
   "outputs": [],
   "source": [
    "## Export as pickle \n",
    "df_ords_prods_all_2.to_pickle(os.path.join(path, '02 Data','Prepared Data', 'orders_products_all_2.pkl'))"
   ]
  },
  {
   "cell_type": "markdown",
   "id": "a41fb026",
   "metadata": {},
   "source": [
    "## Question 5 - The marketing and business strategy units at Instacart want to create more-relevant marketing strategies for different products and are, thus, curious about customer profiling in their database. Create a profiling variable based on age, income, certain goods in the “department_id” column, and number of dependents. You might also use the “orders_day_of_the_week” and “order_hour_of_day” columns if you can think of a way they would impact customer profiles. (Hint: As an example, try thinking of what characteristics would lead you to the profile “Single adult” or “Young parent.”)"
   ]
  },
  {
   "cell_type": "code",
   "execution_count": null,
   "id": "3e74a262",
   "metadata": {},
   "outputs": [],
   "source": [
    "## Upload new data \n",
    "df_ords_prods_all_2 = pd.read_pickle(os.path.join(path, '02 Data', 'Prepared Data', 'orders_products_all_2.pkl'))"
   ]
  },
  {
   "cell_type": "code",
   "execution_count": null,
   "id": "c79cbc54",
   "metadata": {},
   "outputs": [],
   "source": [
    "## Consistency Checks \n",
    "df_ords_prods_all_2.head(3)"
   ]
  },
  {
   "cell_type": "markdown",
   "id": "05a3bc21",
   "metadata": {},
   "source": [
    "### Age Variable "
   ]
  },
  {
   "cell_type": "code",
   "execution_count": null,
   "id": "01ef4569",
   "metadata": {},
   "outputs": [],
   "source": [
    "## Describing the age variable \n",
    "df_ords_prods_all_2['age'].describe()"
   ]
  },
  {
   "cell_type": "code",
   "execution_count": null,
   "id": "6f4781f5",
   "metadata": {},
   "outputs": [],
   "source": [
    "## Age Groups \n",
    "18-33\n",
    "34-65\n",
    "66-81"
   ]
  },
  {
   "cell_type": "code",
   "execution_count": null,
   "id": "315120a3",
   "metadata": {},
   "outputs": [],
   "source": [
    "##  Creating age_range column \n",
    "df_ords_prods_all_2.loc[df_ords_prods_all_2['age'] <=33, 'age_range'] = 'Young Adult (18-33)'"
   ]
  },
  {
   "cell_type": "code",
   "execution_count": null,
   "id": "d41e5908",
   "metadata": {},
   "outputs": [],
   "source": [
    "df_ords_prods_all_2.loc[(df_ords_prods_all_2['age'] >= 34) & (df_ords_prods_all_2['age'] <= 64), 'age_range'] = 'Middle Age Adult (34-65)'"
   ]
  },
  {
   "cell_type": "code",
   "execution_count": null,
   "id": "0267aa5b",
   "metadata": {},
   "outputs": [],
   "source": [
    "df_ords_prods_all_2.loc[df_ords_prods_all_2['age'] >=65, 'age_range'] = 'Older Adult (66+)'"
   ]
  },
  {
   "cell_type": "code",
   "execution_count": null,
   "id": "facd9474",
   "metadata": {},
   "outputs": [],
   "source": [
    "## Value Counts \n",
    "df_ords_prods_all_2['age_range'].value_counts()"
   ]
  },
  {
   "cell_type": "code",
   "execution_count": null,
   "id": "56453abd",
   "metadata": {},
   "outputs": [],
   "source": [
    "## Consistency Checks \n",
    "df_ords_prods_all_2.head(3)"
   ]
  },
  {
   "cell_type": "markdown",
   "id": "66f25e7d",
   "metadata": {},
   "source": [
    "### Income Variable "
   ]
  },
  {
   "cell_type": "code",
   "execution_count": null,
   "id": "485f4236",
   "metadata": {},
   "outputs": [],
   "source": [
    "## Describing the income variable \n",
    "df_ords_prods_all_2['income'].describe()"
   ]
  },
  {
   "cell_type": "code",
   "execution_count": null,
   "id": "83807617",
   "metadata": {},
   "outputs": [],
   "source": [
    "## Age Groups \n",
    "25903-67424\n",
    "67425-128150\n",
    "128151-593901"
   ]
  },
  {
   "cell_type": "code",
   "execution_count": null,
   "id": "4763c087",
   "metadata": {},
   "outputs": [],
   "source": [
    "##  Creating income_range column \n",
    "df_ords_prods_all_2.loc[df_ords_prods_all_2['income'] <=67424, 'income_range'] = 'Low Income'"
   ]
  },
  {
   "cell_type": "code",
   "execution_count": null,
   "id": "a8d479e7",
   "metadata": {},
   "outputs": [],
   "source": [
    "df_ords_prods_all_2.loc[(df_ords_prods_all_2['income'] >= 67425) & (df_ords_prods_all_2['income'] <= 128150), 'income_range'] = 'Middle Income'"
   ]
  },
  {
   "cell_type": "code",
   "execution_count": null,
   "id": "bc937f77",
   "metadata": {},
   "outputs": [],
   "source": [
    "df_ords_prods_all_2.loc[df_ords_prods_all_2['income'] >=128151, 'income_range'] = 'High Income'"
   ]
  },
  {
   "cell_type": "code",
   "execution_count": null,
   "id": "8766c790",
   "metadata": {},
   "outputs": [],
   "source": [
    "## Value counts \n",
    "df_ords_prods_all_2['income_range'].value_counts()"
   ]
  },
  {
   "cell_type": "code",
   "execution_count": null,
   "id": "04bf61e9",
   "metadata": {},
   "outputs": [],
   "source": [
    "## Consistency Checks \n",
    "df_ords_prods_all_2.head(3)"
   ]
  },
  {
   "cell_type": "markdown",
   "id": "8495695f",
   "metadata": {},
   "source": [
    "### Number of Dependants Variable "
   ]
  },
  {
   "cell_type": "code",
   "execution_count": null,
   "id": "6a66bd4d",
   "metadata": {},
   "outputs": [],
   "source": [
    "## Describing the dependants variable \n",
    "df_ords_prods_all_2['number_of_dependants'].describe()"
   ]
  },
  {
   "cell_type": "code",
   "execution_count": null,
   "id": "131d98b0",
   "metadata": {},
   "outputs": [],
   "source": [
    "##  Creating dependants column \n",
    "df_ords_prods_all_2.loc[df_ords_prods_all_2['number_of_dependants'] == 0, 'dependants'] = 'No Dependants'"
   ]
  },
  {
   "cell_type": "code",
   "execution_count": null,
   "id": "0bc4e270",
   "metadata": {},
   "outputs": [],
   "source": [
    "df_ords_prods_all_2.loc[df_ords_prods_all_2['number_of_dependants'] >=1, 'dependants'] = 'Has Dependants'"
   ]
  },
  {
   "cell_type": "code",
   "execution_count": null,
   "id": "7993b67c",
   "metadata": {},
   "outputs": [],
   "source": [
    "## Consistency Checks \n",
    "df_ords_prods_all_2.head(5)"
   ]
  },
  {
   "cell_type": "code",
   "execution_count": null,
   "id": "ff680b3e",
   "metadata": {},
   "outputs": [],
   "source": [
    "## Value Counts \n",
    "df_ords_prods_all_2['number_of_dependants'].value_counts()"
   ]
  },
  {
   "cell_type": "markdown",
   "id": "249255ed",
   "metadata": {},
   "source": [
    "### Department Variable "
   ]
  },
  {
   "cell_type": "code",
   "execution_count": null,
   "id": "ed6391a8",
   "metadata": {},
   "outputs": [],
   "source": [
    "## Import department data\n",
    "df_depts = pd.read_csv(os.path.join(path, '02 Data', 'Prepared Data', 'departments_wrangled.csv'), index_col = False)"
   ]
  },
  {
   "cell_type": "code",
   "execution_count": null,
   "id": "6a63bdd5",
   "metadata": {},
   "outputs": [],
   "source": [
    "df_depts"
   ]
  },
  {
   "cell_type": "code",
   "execution_count": null,
   "id": "b2e857ed",
   "metadata": {},
   "outputs": [],
   "source": [
    "## Rename Unnamed column\n",
    "df_depts=df_depts.rename(columns={'Unnamed: 0' : 'department_id'})"
   ]
  },
  {
   "cell_type": "code",
   "execution_count": null,
   "id": "6aaff8c7",
   "metadata": {},
   "outputs": [],
   "source": [
    "## Consistency Checks \n",
    "df_depts"
   ]
  },
  {
   "cell_type": "code",
   "execution_count": null,
   "id": "fa106846",
   "metadata": {},
   "outputs": [],
   "source": [
    "## Merge depts with df_ords_prods_all_2\n",
    "df_ords_prods_all_3 = df_ords_prods_all_2.merge(df_depts, on = 'department_id')"
   ]
  },
  {
   "cell_type": "code",
   "execution_count": null,
   "id": "a232bf30",
   "metadata": {},
   "outputs": [],
   "source": [
    "# Export\n",
    "df_ords_prods_all_3.to_pickle(os.path.join(path, '02 Data','Prepared Data', 'orders_products_all_3.pkl'))"
   ]
  },
  {
   "cell_type": "code",
   "execution_count": null,
   "id": "cdfee346",
   "metadata": {},
   "outputs": [],
   "source": [
    "df_ords_prods_all_3.shape"
   ]
  },
  {
   "cell_type": "code",
   "execution_count": 4,
   "id": "5893fbcc",
   "metadata": {},
   "outputs": [],
   "source": [
    "## Import data\n",
    "df_ords_prods_all_3 = pd.read_pickle(os.path.join(path, '02 Data', 'Prepared Data', 'orders_products_all_3.pkl'))"
   ]
  },
  {
   "cell_type": "code",
   "execution_count": null,
   "id": "b653fdd8",
   "metadata": {},
   "outputs": [],
   "source": [
    "## Consistency Checks \n",
    "df_ords_prods_all_3.head(3)"
   ]
  },
  {
   "cell_type": "code",
   "execution_count": null,
   "id": "423edc4b",
   "metadata": {},
   "outputs": [],
   "source": [
    "## Value Counts \n",
    "df_ords_prods_all_3['department'].value_counts()"
   ]
  },
  {
   "cell_type": "code",
   "execution_count": null,
   "id": "8595cf38",
   "metadata": {},
   "outputs": [],
   "source": [
    "## Crosstab between age_range and customer_activity \n",
    "crosstab = pd.crosstab(df_ords_prods_all_3['age_range'], df_ords_prods_all_3['customer_activity'], dropna = False)"
   ]
  },
  {
   "cell_type": "code",
   "execution_count": null,
   "id": "49fba390",
   "metadata": {},
   "outputs": [],
   "source": [
    "crosstab"
   ]
  },
  {
   "cell_type": "code",
   "execution_count": null,
   "id": "a140dcc8",
   "metadata": {},
   "outputs": [],
   "source": [
    "## Consistency Checks \n",
    "df_ords_prods_all_3['customer_activity'].unique()"
   ]
  },
  {
   "cell_type": "code",
   "execution_count": null,
   "id": "b78e10ef",
   "metadata": {},
   "outputs": [],
   "source": [
    "## Consistency Checks \n",
    "df_ords_prods_all_3['age_range'].unique()"
   ]
  },
  {
   "cell_type": "markdown",
   "id": "45c27939",
   "metadata": {},
   "source": [
    "### Customer profiling "
   ]
  },
  {
   "cell_type": "code",
   "execution_count": null,
   "id": "91d91995",
   "metadata": {},
   "outputs": [],
   "source": [
    "## Groups \n",
    "Married adult with dependents = married with children\n",
    "Single adult living with parents and siblings = parents and siblings \n",
    "Divorced/widowed and single adult without dependents = Single no dependents "
   ]
  },
  {
   "cell_type": "code",
   "execution_count": null,
   "id": "96a29040",
   "metadata": {},
   "outputs": [],
   "source": [
    "## Value counts of fam_status \n",
    "df_ords_prods_all_3['fam_status'].value_counts()"
   ]
  },
  {
   "cell_type": "code",
   "execution_count": null,
   "id": "a39f26f6",
   "metadata": {},
   "outputs": [],
   "source": [
    "## Crosstab between fam_status and number_of_dependants \n",
    "crosstab = pd.crosstab(df_ords_prods_all_3['fam_status'], df_ords_prods_all_3['number_of_dependants'], dropna = False)"
   ]
  },
  {
   "cell_type": "code",
   "execution_count": null,
   "id": "3e26c239",
   "metadata": {},
   "outputs": [],
   "source": [
    "crosstab"
   ]
  },
  {
   "cell_type": "code",
   "execution_count": null,
   "id": "dbc51e55",
   "metadata": {},
   "outputs": [],
   "source": [
    "## Create profiling column for single no dependents \n",
    "df_ords_prods_all_3.loc[(df_ords_prods_all_3['number_of_dependants'] == 0) & (df_ords_prods_all_3['fam_status'] =='single'), 'customer_profile'] = 'single no dependants'"
   ]
  },
  {
   "cell_type": "code",
   "execution_count": 6,
   "id": "3d969752",
   "metadata": {},
   "outputs": [],
   "source": [
    "## Create profiling column for single no dependents \n",
    "df_ords_prods_all_3.loc[(df_ords_prods_all_3['number_of_dependants'] == 0) & (df_ords_prods_all_3['fam_status'] =='divorced/widowed'), 'customer_profile'] = 'single no dependants'"
   ]
  },
  {
   "cell_type": "code",
   "execution_count": 7,
   "id": "3c288da4",
   "metadata": {},
   "outputs": [],
   "source": [
    "## Create profiling column for married with children \n",
    "df_ords_prods_all_3.loc[(df_ords_prods_all_3['number_of_dependants'] >= 1) & (df_ords_prods_all_3['fam_status'] =='married'), 'customer_profile'] = 'married with children'"
   ]
  },
  {
   "cell_type": "code",
   "execution_count": 8,
   "id": "ca670147",
   "metadata": {},
   "outputs": [],
   "source": [
    "## Create profiling column for living with family with children \n",
    "df_ords_prods_all_3.loc[(df_ords_prods_all_3['number_of_dependants'] >= 1) & (df_ords_prods_all_3['fam_status'] =='living with parents and siblings'), 'customer_profile'] = 'parents and siblings with children'"
   ]
  },
  {
   "cell_type": "code",
   "execution_count": null,
   "id": "b5200eee",
   "metadata": {},
   "outputs": [],
   "source": [
    "## Value counts \n",
    "df_ords_prods_all_3['customer_profile'].value_counts()"
   ]
  },
  {
   "cell_type": "code",
   "execution_count": null,
   "id": "e0f52e0e",
   "metadata": {},
   "outputs": [],
   "source": [
    "## Consistency checks \n",
    "df_ords_prods_all_3.head(10)"
   ]
  },
  {
   "cell_type": "code",
   "execution_count": null,
   "id": "89b06e02",
   "metadata": {},
   "outputs": [],
   "source": [
    "## Crosstab between customer_profile and customer_activity \n",
    "crosstab = pd.crosstab(df_ords_prods_all_3['customer_profile'], df_ords_prods_all_3['spending_flag'], dropna = False)"
   ]
  },
  {
   "cell_type": "code",
   "execution_count": null,
   "id": "c90751b6",
   "metadata": {},
   "outputs": [],
   "source": [
    "crosstab"
   ]
  },
  {
   "cell_type": "markdown",
   "id": "0a3a22a3",
   "metadata": {},
   "source": [
    "## Question 6 - Create an appropriate visualization to show the distribution of profiles."
   ]
  },
  {
   "cell_type": "code",
   "execution_count": null,
   "id": "fddcacbd",
   "metadata": {},
   "outputs": [],
   "source": [
    "## Customer profiles bar graph\n",
    "df_ords_prods_all_3['customer_profile'].value_counts().plot.bar()"
   ]
  },
  {
   "cell_type": "markdown",
   "id": "5302a67c",
   "metadata": {},
   "source": [
    "## Question 7 - Aggregate the max, mean, and min variables on a customer-profile level for usage frequency and expenditure."
   ]
  },
  {
   "cell_type": "code",
   "execution_count": null,
   "id": "015c6629",
   "metadata": {},
   "outputs": [],
   "source": [
    "## Customer profile and expenditure\n",
    "df_ords_prods_all_3.groupby('customer_profile').agg({'prices': ['mean', 'max', 'min']})"
   ]
  },
  {
   "cell_type": "code",
   "execution_count": null,
   "id": "3cd181c9",
   "metadata": {},
   "outputs": [],
   "source": [
    "## Customer profile and usage frequency \n",
    "df_ords_prods_all_3.groupby('customer_profile').agg({'days_since_prior_order': ['mean', 'max', 'min']})"
   ]
  },
  {
   "cell_type": "markdown",
   "id": "9b4828fa",
   "metadata": {},
   "source": [
    "## Question 8 - Compare your customer profiles with regions and departments. Can you identify a link between them? Customers may demonstrate different behaviors across regions, which could make this information important.\n"
   ]
  },
  {
   "cell_type": "code",
   "execution_count": null,
   "id": "8504e45a",
   "metadata": {},
   "outputs": [],
   "source": [
    "## Aggregate region and customer profile \n",
    "agg_region = df_ords_prods_all_3.groupby(['region', 'customer_profile']).size().unstack(fill_value=0)\n",
    "agg_region"
   ]
  },
  {
   "cell_type": "code",
   "execution_count": null,
   "id": "3e1cd4a8",
   "metadata": {},
   "outputs": [],
   "source": [
    "## Create bar chart \n",
    "customer_profile_by_region = agg_region.plot(kind='bar', stacked = True)\n",
    "plt.title('Count of Customer Profile by Region')\n",
    "plt.xlabel('Regions')\n",
    "plt.ylabel('Count')"
   ]
  },
  {
   "cell_type": "markdown",
   "id": "70c69362",
   "metadata": {},
   "source": [
    "### Answer: In all of the regions, married couples with children make up the most amount of customers. The south has the most amount of customers "
   ]
  },
  {
   "cell_type": "code",
   "execution_count": null,
   "id": "10c6cf39",
   "metadata": {},
   "outputs": [],
   "source": [
    "## Aggregate department and customer profile \n",
    "agg_department = df_ords_prods_all_3.groupby(['department', 'customer_profile']).size().unstack(fill_value=0)"
   ]
  },
  {
   "cell_type": "code",
   "execution_count": null,
   "id": "0f49549d",
   "metadata": {},
   "outputs": [],
   "source": [
    "## Create bar chart \n",
    "customer_profile_by_department = agg_department.plot(kind='bar', stacked = True)\n",
    "plt.title('Count of Customer Profile by Department')\n",
    "plt.xlabel('Department')\n",
    "plt.ylabel('Count')"
   ]
  },
  {
   "cell_type": "markdown",
   "id": "b40ead87",
   "metadata": {},
   "source": [
    "### Answer: Produce, dairy/eggs, and beverages are the most purchased items for those married with children"
   ]
  },
  {
   "cell_type": "markdown",
   "id": "e3926238",
   "metadata": {},
   "source": [
    "## Question 9 - Produce suitable charts to illustrate your results and export them in your project folder."
   ]
  },
  {
   "cell_type": "markdown",
   "id": "5ff4947b",
   "metadata": {},
   "source": [
    "### Answer: See charts above. "
   ]
  },
  {
   "cell_type": "code",
   "execution_count": null,
   "id": "fb93ac18",
   "metadata": {},
   "outputs": [],
   "source": [
    "## Export charts \n",
    "customer_profile_by_region.figure.savefig(os.path.join(path, '04 Analysis','Visualizations', 'customer_profile_by_region.png'))"
   ]
  },
  {
   "cell_type": "code",
   "execution_count": null,
   "id": "77275aa5",
   "metadata": {},
   "outputs": [],
   "source": [
    "## Export charts \n",
    "customer_profile_by_department.figure.savefig(os.path.join(path, '04 Analysis','Visualizations', 'customer_profile_by_department.png'))"
   ]
  },
  {
   "cell_type": "code",
   "execution_count": null,
   "id": "c5d40f69",
   "metadata": {},
   "outputs": [],
   "source": [
    "df_ords_prods_all_3[''].value_counts().plot.bar()"
   ]
  },
  {
   "cell_type": "markdown",
   "id": "75a4d597",
   "metadata": {},
   "source": [
    "## Extra for Project "
   ]
  },
  {
   "cell_type": "code",
   "execution_count": 9,
   "id": "d0805917",
   "metadata": {},
   "outputs": [],
   "source": [
    "## Aggregate department and customer profile \n",
    "agg_age = df_ords_prods_all_3.groupby(['age_range', 'customer_profile']).size().unstack(fill_value=0)"
   ]
  },
  {
   "cell_type": "code",
   "execution_count": 10,
   "id": "da058a25",
   "metadata": {},
   "outputs": [
    {
     "data": {
      "text/plain": [
       "Text(0, 0.5, 'Count')"
      ]
     },
     "execution_count": 10,
     "metadata": {},
     "output_type": "execute_result"
    },
    {
     "data": {
      "image/png": "[encoded data removed]",
      "text/plain": [
       "<Figure size 640x480 with 1 Axes>"
      ]
     },
     "metadata": {},
     "output_type": "display_data"
    }
   ],
   "source": [
    "customer_profile_by_age = agg_age.plot(kind='bar', stacked = True)\n",
    "plt.title('Age Range of Customers')\n",
    "plt.xlabel('Age Range')\n",
    "plt.ylabel('Count')"
   ]
  },
  {
   "cell_type": "code",
   "execution_count": null,
   "id": "74aab0a5",
   "metadata": {},
   "outputs": [],
   "source": []
  }
 ],
 "metadata": {
  "kernelspec": {
   "display_name": "Python 3 (ipykernel)",
   "language": "python",
   "name": "python3"
  },
  "language_info": {
   "codemirror_mode": {
    "name": "ipython",
    "version": 3
   },
   "file_extension": ".py",
   "mimetype": "text/x-python",
   "name": "python",
   "nbconvert_exporter": "python",
   "pygments_lexer": "ipython3",
   "version": "3.10.9"
  }
 },
 "nbformat": 4,
 "nbformat_minor": 5
}
