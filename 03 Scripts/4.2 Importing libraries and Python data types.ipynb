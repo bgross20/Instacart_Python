{
 "cells": [
  {
   "cell_type": "markdown",
   "id": "fa7f0d24",
   "metadata": {},
   "source": [
    "# Importing Libraries and Python Data Types "
   ]
  },
  {
   "cell_type": "markdown",
   "id": "fa5cd640",
   "metadata": {},
   "source": [
    "## This script contains the following points: "
   ]
  },
  {
   "cell_type": "markdown",
   "id": "5343f29d",
   "metadata": {},
   "source": [
    "### 1. Importing libraries "
   ]
  },
  {
   "cell_type": "markdown",
   "id": "9aa9859b",
   "metadata": {},
   "source": [
    "### 2. Learning data types "
   ]
  },
  {
   "cell_type": "markdown",
   "id": "4ac5b9e8",
   "metadata": {},
   "source": [
    "# 01.Importing libraries"
   ]
  },
  {
   "cell_type": "code",
   "execution_count": 3,
   "id": "043fb3a4",
   "metadata": {},
   "outputs": [],
   "source": [
    "# Import libraries\n",
    "import pandas as pd\n",
    "import numpy as np\n",
    "import os"
   ]
  },
  {
   "cell_type": "markdown",
   "id": "fddcf90a",
   "metadata": {},
   "source": [
    "## 02. Data Types"
   ]
  },
  {
   "cell_type": "code",
   "execution_count": 4,
   "id": "fa689991",
   "metadata": {},
   "outputs": [],
   "source": [
    "x = 2"
   ]
  },
  {
   "cell_type": "code",
   "execution_count": 5,
   "id": "bd86c538",
   "metadata": {},
   "outputs": [
    {
     "data": {
      "text/plain": [
       "2"
      ]
     },
     "execution_count": 5,
     "metadata": {},
     "output_type": "execute_result"
    }
   ],
   "source": [
    "x"
   ]
  },
  {
   "cell_type": "code",
   "execution_count": 6,
   "id": "06457695",
   "metadata": {},
   "outputs": [
    {
     "name": "stdout",
     "output_type": "stream",
     "text": [
      "2\n"
     ]
    }
   ],
   "source": [
    "print(x)"
   ]
  },
  {
   "cell_type": "code",
   "execution_count": 8,
   "id": "781cd865",
   "metadata": {},
   "outputs": [
    {
     "data": {
      "text/plain": [
       "int"
      ]
     },
     "execution_count": 8,
     "metadata": {},
     "output_type": "execute_result"
    }
   ],
   "source": [
    "type(x)"
   ]
  },
  {
   "cell_type": "code",
   "execution_count": 9,
   "id": "96580817",
   "metadata": {},
   "outputs": [],
   "source": [
    "y = 5.678"
   ]
  },
  {
   "cell_type": "code",
   "execution_count": 10,
   "id": "09792602",
   "metadata": {},
   "outputs": [
    {
     "data": {
      "text/plain": [
       "float"
      ]
     },
     "execution_count": 10,
     "metadata": {},
     "output_type": "execute_result"
    }
   ],
   "source": [
    "type(y)"
   ]
  },
  {
   "cell_type": "code",
   "execution_count": 11,
   "id": "aadfb087",
   "metadata": {},
   "outputs": [],
   "source": [
    "z = 'Brazil'"
   ]
  },
  {
   "cell_type": "code",
   "execution_count": 12,
   "id": "3a877cb6",
   "metadata": {},
   "outputs": [
    {
     "data": {
      "text/plain": [
       "str"
      ]
     },
     "execution_count": 12,
     "metadata": {},
     "output_type": "execute_result"
    }
   ],
   "source": [
    "type(z)"
   ]
  },
  {
   "cell_type": "code",
   "execution_count": 15,
   "id": "af7c97fd",
   "metadata": {},
   "outputs": [
    {
     "data": {
      "text/plain": [
       "str"
      ]
     },
     "execution_count": 15,
     "metadata": {},
     "output_type": "execute_result"
    }
   ],
   "source": [
    "type('mania')"
   ]
  },
  {
   "cell_type": "code",
   "execution_count": 17,
   "id": "a01cde1b",
   "metadata": {},
   "outputs": [
    {
     "data": {
      "text/plain": [
       "bool"
      ]
     },
     "execution_count": 17,
     "metadata": {},
     "output_type": "execute_result"
    }
   ],
   "source": [
    "type(True)"
   ]
  },
  {
   "cell_type": "code",
   "execution_count": 18,
   "id": "a8ab5fe8",
   "metadata": {},
   "outputs": [
    {
     "data": {
      "text/plain": [
       "bool"
      ]
     },
     "execution_count": 18,
     "metadata": {},
     "output_type": "execute_result"
    }
   ],
   "source": [
    "type(False)"
   ]
  },
  {
   "cell_type": "code",
   "execution_count": 19,
   "id": "4f04b2e6",
   "metadata": {},
   "outputs": [
    {
     "data": {
      "text/plain": [
       "2"
      ]
     },
     "execution_count": 19,
     "metadata": {},
     "output_type": "execute_result"
    }
   ],
   "source": [
    "x"
   ]
  },
  {
   "cell_type": "code",
   "execution_count": 21,
   "id": "9445ce8a",
   "metadata": {},
   "outputs": [
    {
     "data": {
      "text/plain": [
       "6"
      ]
     },
     "execution_count": 21,
     "metadata": {},
     "output_type": "execute_result"
    }
   ],
   "source": [
    "x + 4"
   ]
  },
  {
   "cell_type": "code",
   "execution_count": 22,
   "id": "7e5e4525",
   "metadata": {},
   "outputs": [
    {
     "data": {
      "text/plain": [
       "7.678"
      ]
     },
     "execution_count": 22,
     "metadata": {},
     "output_type": "execute_result"
    }
   ],
   "source": [
    "x + y"
   ]
  },
  {
   "cell_type": "code",
   "execution_count": 31,
   "id": "6cb66eb4",
   "metadata": {},
   "outputs": [],
   "source": [
    "x = x + 4"
   ]
  },
  {
   "cell_type": "code",
   "execution_count": 33,
   "id": "7219af26",
   "metadata": {},
   "outputs": [
    {
     "name": "stdout",
     "output_type": "stream",
     "text": [
      "6\n"
     ]
    }
   ],
   "source": [
    "print(x)"
   ]
  },
  {
   "cell_type": "code",
   "execution_count": 39,
   "id": "cae6ded3",
   "metadata": {},
   "outputs": [],
   "source": [
    "a = 'Hello, '"
   ]
  },
  {
   "cell_type": "code",
   "execution_count": 40,
   "id": "23284b24",
   "metadata": {},
   "outputs": [],
   "source": [
    "b = 'Marley'"
   ]
  },
  {
   "cell_type": "code",
   "execution_count": 42,
   "id": "26d0d1b5",
   "metadata": {},
   "outputs": [
    {
     "data": {
      "text/plain": [
       "'Hello, Marley'"
      ]
     },
     "execution_count": 42,
     "metadata": {},
     "output_type": "execute_result"
    }
   ],
   "source": [
    "a + b "
   ]
  },
  {
   "cell_type": "code",
   "execution_count": 43,
   "id": "a22a2ff3",
   "metadata": {},
   "outputs": [
    {
     "data": {
      "text/plain": [
       "False"
      ]
     },
     "execution_count": 43,
     "metadata": {},
     "output_type": "execute_result"
    }
   ],
   "source": [
    "x == y"
   ]
  },
  {
   "cell_type": "code",
   "execution_count": 45,
   "id": "d1026a8f",
   "metadata": {},
   "outputs": [
    {
     "data": {
      "text/plain": [
       "bool"
      ]
     },
     "execution_count": 45,
     "metadata": {},
     "output_type": "execute_result"
    }
   ],
   "source": [
    "type(False)"
   ]
  },
  {
   "cell_type": "code",
   "execution_count": 46,
   "id": "3d126877",
   "metadata": {},
   "outputs": [
    {
     "data": {
      "text/plain": [
       "100"
      ]
     },
     "execution_count": 46,
     "metadata": {},
     "output_type": "execute_result"
    }
   ],
   "source": [
    "50 + 50"
   ]
  },
  {
   "cell_type": "code",
   "execution_count": 48,
   "id": "8df1fc04",
   "metadata": {},
   "outputs": [
    {
     "data": {
      "text/plain": [
       "100"
      ]
     },
     "execution_count": 48,
     "metadata": {},
     "output_type": "execute_result"
    }
   ],
   "source": [
    "101 - 1"
   ]
  },
  {
   "cell_type": "code",
   "execution_count": 49,
   "id": "61236445",
   "metadata": {},
   "outputs": [
    {
     "data": {
      "text/plain": [
       "100"
      ]
     },
     "execution_count": 49,
     "metadata": {},
     "output_type": "execute_result"
    }
   ],
   "source": [
    "25 + 75"
   ]
  },
  {
   "cell_type": "code",
   "execution_count": 50,
   "id": "c4f36af9",
   "metadata": {},
   "outputs": [],
   "source": [
    "m = 8.9251"
   ]
  },
  {
   "cell_type": "code",
   "execution_count": 51,
   "id": "1bddf1bb",
   "metadata": {},
   "outputs": [],
   "source": [
    "n = 1.2652"
   ]
  },
  {
   "cell_type": "code",
   "execution_count": 52,
   "id": "e136c2fd",
   "metadata": {},
   "outputs": [
    {
     "data": {
      "text/plain": [
       "0.14175751532195718"
      ]
     },
     "execution_count": 52,
     "metadata": {},
     "output_type": "execute_result"
    }
   ],
   "source": [
    "n/m"
   ]
  },
  {
   "cell_type": "code",
   "execution_count": 57,
   "id": "8c4ee388",
   "metadata": {},
   "outputs": [],
   "source": [
    "c = 'chocolate '"
   ]
  },
  {
   "cell_type": "code",
   "execution_count": 64,
   "id": "4ebf8b6e",
   "metadata": {},
   "outputs": [],
   "source": [
    "d = 'ice cream '"
   ]
  },
  {
   "cell_type": "code",
   "execution_count": 59,
   "id": "7875b783",
   "metadata": {},
   "outputs": [
    {
     "data": {
      "text/plain": [
       "'chocolate ice cream'"
      ]
     },
     "execution_count": 59,
     "metadata": {},
     "output_type": "execute_result"
    }
   ],
   "source": [
    "c + d"
   ]
  },
  {
   "cell_type": "code",
   "execution_count": 60,
   "id": "0ed01805",
   "metadata": {},
   "outputs": [],
   "source": [
    "a = 'I love '"
   ]
  },
  {
   "cell_type": "code",
   "execution_count": 61,
   "id": "e5d1755c",
   "metadata": {},
   "outputs": [],
   "source": [
    "b = 'in the summer.'"
   ]
  },
  {
   "cell_type": "code",
   "execution_count": 65,
   "id": "dd59b1fc",
   "metadata": {},
   "outputs": [
    {
     "data": {
      "text/plain": [
       "'I love chocolate ice cream in the summer.'"
      ]
     },
     "execution_count": 65,
     "metadata": {},
     "output_type": "execute_result"
    }
   ],
   "source": [
    "a + c + d + b"
   ]
  },
  {
   "cell_type": "code",
   "execution_count": 66,
   "id": "30826b3e",
   "metadata": {},
   "outputs": [],
   "source": [
    "e = 'I want '"
   ]
  },
  {
   "cell_type": "code",
   "execution_count": 68,
   "id": "aa5ffd66",
   "metadata": {},
   "outputs": [],
   "source": [
    "f = 'to swim in the ocean '"
   ]
  },
  {
   "cell_type": "code",
   "execution_count": 69,
   "id": "a8375439",
   "metadata": {},
   "outputs": [],
   "source": [
    "g = 'in Hawaii '"
   ]
  },
  {
   "cell_type": "code",
   "execution_count": 70,
   "id": "be4d1525",
   "metadata": {},
   "outputs": [],
   "source": [
    "h = 'this summer.'"
   ]
  },
  {
   "cell_type": "code",
   "execution_count": 71,
   "id": "1be0272a",
   "metadata": {},
   "outputs": [
    {
     "data": {
      "text/plain": [
       "'I want to swim in the ocean in Hawaii this summer.'"
      ]
     },
     "execution_count": 71,
     "metadata": {},
     "output_type": "execute_result"
    }
   ],
   "source": [
    "e + f + g + h"
   ]
  },
  {
   "cell_type": "code",
   "execution_count": 75,
   "id": "1905a8ec",
   "metadata": {},
   "outputs": [],
   "source": [
    "i = 'Hawaii '"
   ]
  },
  {
   "cell_type": "code",
   "execution_count": 76,
   "id": "ee5cb12d",
   "metadata": {},
   "outputs": [
    {
     "data": {
      "text/plain": [
       "'Hawaii Hawaii Hawaii Hawaii Hawaii Hawaii Hawaii Hawaii Hawaii Hawaii Hawaii Hawaii Hawaii Hawaii Hawaii Hawaii Hawaii Hawaii Hawaii Hawaii Hawaii Hawaii Hawaii Hawaii Hawaii Hawaii Hawaii Hawaii Hawaii Hawaii Hawaii Hawaii Hawaii Hawaii Hawaii Hawaii Hawaii Hawaii Hawaii Hawaii Hawaii Hawaii Hawaii Hawaii Hawaii Hawaii Hawaii Hawaii Hawaii Hawaii Hawaii Hawaii Hawaii Hawaii Hawaii Hawaii Hawaii Hawaii Hawaii Hawaii Hawaii Hawaii Hawaii Hawaii Hawaii Hawaii Hawaii Hawaii Hawaii Hawaii Hawaii Hawaii Hawaii Hawaii Hawaii Hawaii Hawaii Hawaii Hawaii Hawaii Hawaii Hawaii Hawaii Hawaii Hawaii Hawaii Hawaii Hawaii Hawaii Hawaii Hawaii Hawaii Hawaii Hawaii Hawaii Hawaii Hawaii Hawaii Hawaii Hawaii '"
      ]
     },
     "execution_count": 76,
     "metadata": {},
     "output_type": "execute_result"
    }
   ],
   "source": [
    "i *100"
   ]
  },
  {
   "cell_type": "code",
   "execution_count": null,
   "id": "d6ae8c12",
   "metadata": {},
   "outputs": [],
   "source": []
  }
 ],
 "metadata": {
  "kernelspec": {
   "display_name": "Python 3 (ipykernel)",
   "language": "python",
   "name": "python3"
  },
  "language_info": {
   "codemirror_mode": {
    "name": "ipython",
    "version": 3
   },
   "file_extension": ".py",
   "mimetype": "text/x-python",
   "name": "python",
   "nbconvert_exporter": "python",
   "pygments_lexer": "ipython3",
   "version": "3.10.9"
  }
 },
 "nbformat": 4,
 "nbformat_minor": 5
}
